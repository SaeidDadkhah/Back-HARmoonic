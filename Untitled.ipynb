{
 "cells": [
  {
   "cell_type": "code",
   "execution_count": 34,
   "metadata": {
    "collapsed": true
   },
   "outputs": [],
   "source": [
    "import pandas as pd\n",
    "import numpy as np\n",
    "from sklearn.preprocessing import MinMaxScaler\n",
    "from sklearn.discriminant_analysis import LinearDiscriminantAnalysis\n",
    "from sklearn.linear_model import LogisticRegression\n",
    "from sklearn.metrics import accuracy_score"
   ]
  },
  {
   "cell_type": "code",
   "execution_count": 2,
   "metadata": {
    "collapsed": true
   },
   "outputs": [],
   "source": [
    "data = pd.read_pickle('./statistical_feature_extraction/sample5.pkl')"
   ]
  },
  {
   "cell_type": "code",
   "execution_count": 4,
   "metadata": {
    "collapsed": false
   },
   "outputs": [],
   "source": [
    "data = data.sample(frac=1).reset_index(drop=True)"
   ]
  },
  {
   "cell_type": "code",
   "execution_count": 11,
   "metadata": {
    "collapsed": false
   },
   "outputs": [],
   "source": [
    "_feature_vector_size = 1395\n",
    "_columns = list(range(0, _feature_vector_size))\n",
    "# noinspection PyTypeChecker\n",
    "_columns.append('subject')\n",
    "# noinspection PyTypeChecker\n",
    "_columns.append('activity')\n",
    "_nominal_columns = [_columns[-2], _columns[-1]]\n",
    "\n",
    "min_max_scaler = MinMaxScaler()\n",
    "y = data[_nominal_columns]\n",
    "x = data.drop(_nominal_columns, axis=1)\n",
    "x = min_max_scaler.fit_transform(x)  # type: pd.DataFrame\n",
    "data = pd.DataFrame(x).join(y)"
   ]
  },
  {
   "cell_type": "code",
   "execution_count": 28,
   "metadata": {
    "collapsed": false
   },
   "outputs": [
    {
     "name": "stderr",
     "output_type": "stream",
     "text": [
      "/home/saeid/anaconda3/lib/python3.6/site-packages/sklearn/discriminant_analysis.py:455: UserWarning: The priors do not sum to 1. Renormalizing\n",
      "  UserWarning)\n",
      "/home/saeid/anaconda3/lib/python3.6/site-packages/sklearn/discriminant_analysis.py:387: UserWarning: Variables are collinear.\n",
      "  warnings.warn(\"Variables are collinear.\")\n"
     ]
    }
   ],
   "source": [
    "lda = LinearDiscriminantAnalysis(n_components=19)\n",
    "y = data[_nominal_columns]\n",
    "x = data.drop(_nominal_columns, axis=1)\n",
    "x = lda.fit_transform(x, y['activity'])  # type: pd.DataFrame\n",
    "data = pd.DataFrame(x).join(y)"
   ]
  },
  {
   "cell_type": "code",
   "execution_count": 31,
   "metadata": {
    "collapsed": false
   },
   "outputs": [],
   "source": [
    "y = data[['activity']]\n",
    "x = data.drop(_nominal_columns, axis=1)\n",
    "data = pd.DataFrame(x).join(y)"
   ]
  },
  {
   "cell_type": "code",
   "execution_count": 35,
   "metadata": {
    "collapsed": false
   },
   "outputs": [
    {
     "name": "stdout",
     "output_type": "stream",
     "text": [
      "0.995394736842\n"
     ]
    }
   ],
   "source": [
    "x = data.drop('activity', axis=1)\n",
    "y = data['activity']\n",
    "lr = LogisticRegression()\n",
    "lr.fit(x, y)\n",
    "p = lr.predict(x)\n",
    "print(accuracy_score(y, p))"
   ]
  },
  {
   "cell_type": "code",
   "execution_count": null,
   "metadata": {
    "collapsed": true
   },
   "outputs": [],
   "source": []
  }
 ],
 "metadata": {
  "kernelspec": {
   "display_name": "Python 3",
   "language": "python",
   "name": "python3"
  },
  "language_info": {
   "codemirror_mode": {
    "name": "ipython",
    "version": 3
   },
   "file_extension": ".py",
   "mimetype": "text/x-python",
   "name": "python",
   "nbconvert_exporter": "python",
   "pygments_lexer": "ipython3",
   "version": "3.6.0"
  }
 },
 "nbformat": 4,
 "nbformat_minor": 2
}
